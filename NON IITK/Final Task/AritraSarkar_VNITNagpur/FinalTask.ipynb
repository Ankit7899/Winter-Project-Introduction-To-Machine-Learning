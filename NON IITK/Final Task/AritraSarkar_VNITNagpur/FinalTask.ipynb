{
 "cells": [
  {
   "cell_type": "code",
   "execution_count": 1,
   "metadata": {},
   "outputs": [
    {
     "name": "stdout",
     "output_type": "stream",
     "text": [
      "Missing values per column:\n",
      " Unnamed: 0             0\n",
      "Id                     0\n",
      "CAS                    0\n",
      "SMILES                 0\n",
      "Status                 0\n",
      "Experimental value     0\n",
      "Predicted value        0\n",
      "NumValenceElectrons    0\n",
      "qed                    0\n",
      "TPSA                   0\n",
      "MolMR                  0\n",
      "BalabanJ               0\n",
      "BertzCT                0\n",
      "MolWt                  0\n",
      "MolLogP                0\n",
      "dtype: int64\n",
      "Unique target values: [2.2482  1.177   1.3004  ... 1.3658  3.84768 4.61982]\n",
      "Target variable is not binary. Switching to 'f1_macro' for scoring.\n",
      "Missing values in X_train: 0\n",
      "Missing values in y_train: 0\n"
     ]
    },
    {
     "name": "stderr",
     "output_type": "stream",
     "text": [
      "d:\\Python\\Lib\\site-packages\\sklearn\\model_selection\\_split.py:805: UserWarning: The least populated class in y has only 1 members, which is less than n_splits=5.\n",
      "  warnings.warn(\n"
     ]
    },
    {
     "name": "stdout",
     "output_type": "stream",
     "text": [
      "Best k: 1\n",
      "F1-score: 0.2594\n",
      "Accuracy: 0.5265\n",
      "Precision: 0.2697\n",
      "Recall: 0.2557\n"
     ]
    },
    {
     "name": "stderr",
     "output_type": "stream",
     "text": [
      "d:\\Python\\Lib\\site-packages\\sklearn\\metrics\\_classification.py:1565: UndefinedMetricWarning: Precision is ill-defined and being set to 0.0 in labels with no predicted samples. Use `zero_division` parameter to control this behavior.\n",
      "  _warn_prf(average, modifier, f\"{metric.capitalize()} is\", len(result))\n",
      "d:\\Python\\Lib\\site-packages\\sklearn\\metrics\\_classification.py:1565: UndefinedMetricWarning: Recall is ill-defined and being set to 0.0 in labels with no true samples. Use `zero_division` parameter to control this behavior.\n",
      "  _warn_prf(average, modifier, f\"{metric.capitalize()} is\", len(result))\n"
     ]
    }
   ],
   "source": [
    "import pandas as pd\n",
    "import numpy as np\n",
    "from sklearn.model_selection import train_test_split, GridSearchCV\n",
    "from sklearn.preprocessing import StandardScaler, LabelEncoder\n",
    "from sklearn.neighbors import KNeighborsClassifier\n",
    "from sklearn.metrics import f1_score, accuracy_score, precision_score, recall_score\n",
    "\n",
    "# Load dataset\n",
    "df = pd.read_csv(\"mutagenicity_kNN.csv\")\n",
    "\n",
    "# Check for missing values\n",
    "print(\"Missing values per column:\\n\", df.isnull().sum())\n",
    "\n",
    "# Fill missing values only in numeric columns\n",
    "df.fillna(df.select_dtypes(include=[np.number]).mean(numeric_only=True), inplace=True)\n",
    "\n",
    "# Encode categorical columns if present\n",
    "for col in df.select_dtypes(include=['object']).columns:\n",
    "    df[col] = LabelEncoder().fit_transform(df[col])\n",
    "\n",
    "# Ensure target column is binary\n",
    "target_col = df.columns[-1]\n",
    "print(f\"Unique target values: {df[target_col].unique()}\")\n",
    "\n",
    "if len(df[target_col].unique()) > 2:\n",
    "    print(\"Target variable is not binary. Switching to 'f1_macro' for scoring.\")\n",
    "    scoring_metric = 'f1_macro'\n",
    "else:\n",
    "    scoring_metric = 'f1'\n",
    "\n",
    "# Assume the last column is the target variable (mutagenicity label)\n",
    "X = df.iloc[:, :-1]  # Features\n",
    "y = df.iloc[:, -1]    # Target\n",
    "\n",
    "# Convert target variable to integer type\n",
    "y = y.astype(int)\n",
    "\n",
    "# Split dataset into training and testing sets\n",
    "X_train, X_test, y_train, y_test = train_test_split(X, y, test_size=0.2, random_state=42)\n",
    "\n",
    "# Standardize the feature values\n",
    "scaler = StandardScaler()\n",
    "X_train = scaler.fit_transform(X_train)  # Transform training data\n",
    "X_test = scaler.transform(X_test)  # Transform test data\n",
    "\n",
    "# Hyperparameter tuning using GridSearchCV\n",
    "param_grid = {'n_neighbors': range(1, 21)}\n",
    "knn = KNeighborsClassifier()\n",
    "grid_search = GridSearchCV(knn, param_grid, scoring=scoring_metric, cv=5)\n",
    "\n",
    "# Ensure no missing values in training set\n",
    "print(\"Missing values in X_train:\", np.isnan(X_train).sum())\n",
    "print(\"Missing values in y_train:\", np.isnan(y_train).sum())\n",
    "\n",
    "# Fit model\n",
    "grid_search.fit(X_train, y_train)\n",
    "\n",
    "# Best k value\n",
    "best_k = grid_search.best_params_['n_neighbors']\n",
    "print(f\"Best k: {best_k}\")\n",
    "\n",
    "# Train final model\n",
    "knn_best = KNeighborsClassifier(n_neighbors=best_k)\n",
    "knn_best.fit(X_train, y_train)\n",
    "\n",
    "# Predictions\n",
    "y_pred = knn_best.predict(X_test)\n",
    "\n",
    "# Evaluate model\n",
    "f1 = f1_score(y_test, y_pred, average='macro')  # Use 'macro' for multi-class\n",
    "accuracy = accuracy_score(y_test, y_pred)\n",
    "precision = precision_score(y_test, y_pred, average='macro')\n",
    "recall = recall_score(y_test, y_pred, average='macro')\n",
    "\n",
    "print(f\"F1-score: {f1:.4f}\")\n",
    "print(f\"Accuracy: {accuracy:.4f}\")\n",
    "print(f\"Precision: {precision:.4f}\")\n",
    "print(f\"Recall: {recall:.4f}\")\n"
   ]
  }
 ],
 "metadata": {
  "kernelspec": {
   "display_name": "Python 3",
   "language": "python",
   "name": "python3"
  },
  "language_info": {
   "codemirror_mode": {
    "name": "ipython",
    "version": 3
   },
   "file_extension": ".py",
   "mimetype": "text/x-python",
   "name": "python",
   "nbconvert_exporter": "python",
   "pygments_lexer": "ipython3",
   "version": "3.13.1"
  }
 },
 "nbformat": 4,
 "nbformat_minor": 2
}
