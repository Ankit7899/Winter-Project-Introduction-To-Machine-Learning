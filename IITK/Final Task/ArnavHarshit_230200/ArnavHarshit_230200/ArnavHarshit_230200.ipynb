{
 "cells": [
  {
   "cell_type": "markdown",
   "id": "5c97c04b",
   "metadata": {},
   "source": [
    "# Assignment: Predicting Molecular Mutagenicity Using KNN for SPR Modeling"
   ]
  },
  {
   "cell_type": "markdown",
   "id": "f514fee7",
   "metadata": {},
   "source": [
    "# Importing LIbraries"
   ]
  },
  {
   "cell_type": "code",
   "execution_count": 29,
   "id": "cf5250b2",
   "metadata": {
    "scrolled": false
   },
   "outputs": [],
   "source": [
    "import pandas as pd\n",
    "import numpy as np\n",
    "import matplotlib.pyplot as plt\n",
    "from sklearn.metrics import confusion_matrix\n",
    "import seaborn as sns\n",
    "from sklearn.model_selection import train_test_split, GridSearchCV\n",
    "from sklearn.preprocessing import StandardScaler\n",
    "from sklearn.neighbors import KNeighborsClassifier\n",
    "from sklearn.metrics import f1_score, accuracy_score, precision_score, recall_score, classification_report\n",
    "from sklearn.feature_selection import mutual_info_classif"
   ]
  },
  {
   "cell_type": "markdown",
   "id": "f82febbb",
   "metadata": {},
   "source": [
    "# Loading The DataSet"
   ]
  },
  {
   "cell_type": "code",
   "execution_count": 31,
   "id": "12fbdd28",
   "metadata": {},
   "outputs": [
    {
     "name": "stdout",
     "output_type": "stream",
     "text": [
      "   Unnamed: 0  Id       CAS                     SMILES    Status  \\\n",
      "0           0   1  100-00-5   O=[N+]([O-])c1ccc(cc1)Cl  Training   \n",
      "1           1   2  100-01-6    O=[N+]([O-])c1ccc(N)cc1  Training   \n",
      "2           2   3  100-02-7    O=[N+]([O-])c1ccc(O)cc1  Training   \n",
      "3           3   4  100-11-8  O=[N+]([O-])c1ccc(cc1)CBr  Training   \n",
      "4           4   5  100-12-9   O=[N+]([O-])c1ccc(cc1)CC  Training   \n",
      "\n",
      "   Experimental value Predicted value  NumValenceElectrons       qed   TPSA  \\\n",
      "0                   1               1                   52  0.463602  43.14   \n",
      "1                   1               1                   52  0.359544  69.16   \n",
      "2                   0               1                   52  0.470728  63.37   \n",
      "3                   1               0                   58  0.432586  43.14   \n",
      "4                   0               0                   58  0.479785  43.14   \n",
      "\n",
      "     MolMR  BalabanJ     BertzCT    MolWt  MolLogP  \n",
      "0  38.1064  3.003401  244.429658  157.556   2.2482  \n",
      "1  37.5088  3.003401  242.429658  138.126   1.1770  \n",
      "2  34.7612  3.003401  241.674771  139.110   1.3004  \n",
      "3  45.7274  2.913802  257.648013  216.034   2.4897  \n",
      "4  42.4744  2.913802  253.299498  151.165   2.1572  \n"
     ]
    }
   ],
   "source": [
    "# Load dataset\n",
    "file_path = \"mutagenicity_kNN.csv\"\n",
    "df = pd.read_csv(file_path)\n",
    "\n",
    "print(df.head())"
   ]
  },
  {
   "cell_type": "markdown",
   "id": "413c2ad8",
   "metadata": {},
   "source": [
    "# Checking missing values"
   ]
  },
  {
   "cell_type": "code",
   "execution_count": 33,
   "id": "68b3b31e",
   "metadata": {},
   "outputs": [
    {
     "name": "stdout",
     "output_type": "stream",
     "text": [
      "Missing values in each column:\n",
      " Unnamed: 0             0\n",
      "Id                     0\n",
      "CAS                    0\n",
      "SMILES                 0\n",
      "Status                 0\n",
      "Experimental value     0\n",
      "Predicted value        0\n",
      "NumValenceElectrons    0\n",
      "qed                    0\n",
      "TPSA                   0\n",
      "MolMR                  0\n",
      "BalabanJ               0\n",
      "BertzCT                0\n",
      "MolWt                  0\n",
      "MolLogP                0\n",
      "dtype: int64\n"
     ]
    }
   ],
   "source": [
    "print(\"Missing values in each column:\\n\",df.isnull().sum()) ; "
   ]
  },
  {
   "cell_type": "markdown",
   "id": "b97dcbbb",
   "metadata": {},
   "source": [
    "# Splitting The Dataset"
   ]
  },
  {
   "cell_type": "code",
   "execution_count": 34,
   "id": "4fab801d",
   "metadata": {},
   "outputs": [],
   "source": [
    "X = df[['NumValenceElectrons', 'qed', 'TPSA', 'MolMR', 'BalabanJ', 'BertzCT', 'MolWt', 'MolLogP']]\n",
    "y = df['Experimental value']\n",
    "\n",
    "# Split the data into training and testing sets\n",
    "X_train, X_test, y_train, y_test = train_test_split(X, y, test_size=0.2, random_state=42)"
   ]
  },
  {
   "cell_type": "markdown",
   "id": "de1c0335",
   "metadata": {},
   "source": [
    "# Standardize the features"
   ]
  },
  {
   "cell_type": "code",
   "execution_count": 35,
   "id": "71800231",
   "metadata": {},
   "outputs": [],
   "source": [
    "# Standardize the features\n",
    "scaler = StandardScaler()\n",
    "X_train = scaler.fit_transform(X_train)\n",
    "X_test = scaler.transform(X_test)"
   ]
  },
  {
   "cell_type": "markdown",
   "id": "e9e0b10b",
   "metadata": {},
   "source": [
    "# Hyperparameter Tuning Using GridSearchCV"
   ]
  },
  {
   "cell_type": "code",
   "execution_count": 36,
   "id": "bbe10f1e",
   "metadata": {},
   "outputs": [
    {
     "name": "stdout",
     "output_type": "stream",
     "text": [
      "Best k value: 15\n"
     ]
    }
   ],
   "source": [
    "# Hyperparameter tuning using GridSearchCV\n",
    "param_grid = {'n_neighbors': range(1, 20)}\n",
    "knn = KNeighborsClassifier()\n",
    "grid_search = GridSearchCV(knn, param_grid, cv=5, scoring='f1')\n",
    "grid_search.fit(X_train, y_train)\n",
    "\n",
    "# Best k value\n",
    "best_k = grid_search.best_params_['n_neighbors']\n",
    "print(f\"Best k value: {best_k}\")"
   ]
  },
  {
   "cell_type": "markdown",
   "id": "3be65e30",
   "metadata": {},
   "source": [
    "# Integrating KNN Model"
   ]
  },
  {
   "cell_type": "code",
   "execution_count": 37,
   "id": "38158b77",
   "metadata": {},
   "outputs": [],
   "source": [
    "# Train the model with the best k\n",
    "best_knn = KNeighborsClassifier(n_neighbors=best_k)\n",
    "best_knn.fit(X_train, y_train)\n",
    "\n",
    "# Predict on the test set\n",
    "y_pred = best_knn.predict(X_test)"
   ]
  },
  {
   "cell_type": "markdown",
   "id": "e37560b3",
   "metadata": {},
   "source": [
    "# Evaluation of Model"
   ]
  },
  {
   "cell_type": "code",
   "execution_count": 41,
   "id": "9a6d5902",
   "metadata": {},
   "outputs": [
    {
     "name": "stdout",
     "output_type": "stream",
     "text": [
      "F1 Score: 0.7437641723356009\n",
      "Accuracy: 0.7059843885516045\n",
      "Precision: 0.7310549777117384\n",
      "Recall: 0.7569230769230769\n"
     ]
    }
   ],
   "source": [
    "# Evaluate the model\n",
    "f1 = f1_score(y_test, y_pred)\n",
    "accuracy = accuracy_score(y_test, y_pred)\n",
    "precision = precision_score(y_test, y_pred)\n",
    "recall = recall_score(y_test, y_pred)\n",
    "\n",
    "print(f\"F1 Score: {f1}\")\n",
    "print(f\"Accuracy: {accuracy}\")\n",
    "print(f\"Precision: {precision}\")\n",
    "print(f\"Recall: {recall}\")"
   ]
  },
  {
   "cell_type": "markdown",
   "id": "1f46b33c",
   "metadata": {},
   "source": [
    "# Plotting Performance Matrix"
   ]
  },
  {
   "cell_type": "code",
   "execution_count": 42,
   "id": "4dacf142",
   "metadata": {},
   "outputs": [
    {
     "data": {
      "image/png": "[encoded data removed]",
      "text/plain": [
       "<Figure size 800x500 with 1 Axes>"
      ]
     },
     "metadata": {},
     "output_type": "display_data"
    }
   ],
   "source": [
    "# Plot performance metrics\n",
    "\n",
    "metrics = ['F1 Score', 'Accuracy', 'Precision', 'Recall']\n",
    "values = [f1, accuracy, precision, recall]\n",
    "\n",
    "plt.figure(figsize=(8, 5))\n",
    "plt.bar(metrics, values, color=['blue', 'green', 'orange', 'red'])\n",
    "plt.title('Model Performance Metrics', fontsize=16)\n",
    "plt.xlabel('Metrics', fontsize=14)\n",
    "plt.ylabel('Score', fontsize=14)\n",
    "plt.ylim(0, 1)\n",
    "for i, v in enumerate(values):\n",
    "    plt.text(i, v + 0.02, f\"{v:.2f}\", ha='center', fontsize=12)\n",
    "plt.show()"
   ]
  },
  {
   "cell_type": "markdown",
   "id": "26931c58",
   "metadata": {},
   "source": [
    "# Plotting Confusion Matrix"
   ]
  },
  {
   "cell_type": "code",
   "execution_count": 44,
   "id": "92a57f15",
   "metadata": {},
   "outputs": [
    {
     "data": {
      "image/png": "[encoded data removed]",
      "text/plain": [
       "<Figure size 600x600 with 1 Axes>"
      ]
     },
     "metadata": {},
     "output_type": "display_data"
    },
    {
     "name": "stdout",
     "output_type": "stream",
     "text": [
      "              precision    recall  f1-score   support\n",
      "\n",
      "           0       0.67      0.64      0.66       503\n",
      "           1       0.73      0.76      0.74       650\n",
      "\n",
      "    accuracy                           0.71      1153\n",
      "   macro avg       0.70      0.70      0.70      1153\n",
      "weighted avg       0.70      0.71      0.71      1153\n",
      "\n"
     ]
    }
   ],
   "source": [
    "# Plot Confustion metrics\n",
    "cm = confusion_matrix(y_test, y_pred)\n",
    "\n",
    "plt.figure(figsize=(6, 6))\n",
    "sns.heatmap(cm, annot=True, fmt='d', cmap='Blues', cbar=False,\n",
    "            xticklabels=['Non-Mutagenic (0)', 'Mutagenic (1)'],\n",
    "            yticklabels=['Non-Mutagenic (0)', 'Mutagenic (1)'])\n",
    "plt.title('Confusion Matrix', fontsize=16)\n",
    "plt.xlabel('Predicted', fontsize=14)\n",
    "plt.ylabel('Actual', fontsize=14)\n",
    "plt.show()\n",
    "\n",
    "print(classification_report(y_test, y_pred))"
   ]
  },
  {
   "cell_type": "code",
   "execution_count": null,
   "id": "38b9a1cc",
   "metadata": {},
   "outputs": [],
   "source": []
  }
 ],
 "metadata": {
  "kernelspec": {
   "display_name": "Python 3 (ipykernel)",
   "language": "python",
   "name": "python3"
  },
  "language_info": {
   "codemirror_mode": {
    "name": "ipython",
    "version": 3
   },
   "file_extension": ".py",
   "mimetype": "text/x-python",
   "name": "python",
   "nbconvert_exporter": "python",
   "pygments_lexer": "ipython3",
   "version": "3.11.5"
  }
 },
 "nbformat": 4,
 "nbformat_minor": 5
}
